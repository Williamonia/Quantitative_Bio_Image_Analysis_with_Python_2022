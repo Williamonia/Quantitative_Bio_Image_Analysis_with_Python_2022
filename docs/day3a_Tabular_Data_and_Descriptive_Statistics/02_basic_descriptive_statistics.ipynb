{
 "cells": [
  {
   "cell_type": "markdown",
   "id": "f6dc47ed-b5c4-4e23-8af3-365fa5aea930",
   "metadata": {},
   "source": [
    "# Basic descriptive statistics\n",
    "The term [descriptive statistics](https://en.wikipedia.org/wiki/Descriptive_statistics) refers to methods that allow summarizing collections of data. To demonstrate the most important methods, we start by defining a dataset first."
   ]
  },
  {
   "cell_type": "code",
   "execution_count": 1,
   "id": "52c2d369-3c34-42f1-860d-4b15aa0a56fb",
   "metadata": {},
   "outputs": [],
   "source": [
    "measurements = [5, 2, 6, 4, 8, 6, 2, 5, 1, 3, 3, 6]"
   ]
  },
  {
   "cell_type": "markdown",
   "id": "495cce67-9f45-4b36-842d-404747ba43a1",
   "metadata": {},
   "source": [
    "## Measurements of central tendency\n",
    "We can measure the _location_ of our `measurement` in space using [numpy's statistics functions](https://numpy.org/doc/stable/reference/routines.statistics.html) and Python's [statistics module](https://docs.python.org/3/library/statistics.html)."
   ]
  },
  {
   "cell_type": "code",
   "execution_count": 2,
   "id": "afe45a7b-d925-46b6-b2c3-8fdcbdafae5c",
   "metadata": {},
   "outputs": [],
   "source": [
    "import numpy as np\n",
    "import statistics as st\n",
    "from scipy import stats\n",
    "import matplotlib.pyplot as plt"
   ]
  },
  {
   "cell_type": "code",
   "execution_count": 3,
   "id": "ae6d6f1d-da15-4fb3-9021-bfffa18b6e76",
   "metadata": {},
   "outputs": [
    {
     "data": {
      "text/plain": [
       "4.25"
      ]
     },
     "execution_count": 3,
     "metadata": {},
     "output_type": "execute_result"
    }
   ],
   "source": [
    "average = np.mean(measurements)\n",
    "average"
   ]
  },
  {
   "cell_type": "code",
   "execution_count": 4,
   "id": "5c8785a5-8f3e-43f3-abb6-ab798d2d0e8e",
   "metadata": {},
   "outputs": [
    {
     "data": {
      "text/plain": [
       "4.5"
      ]
     },
     "execution_count": 4,
     "metadata": {},
     "output_type": "execute_result"
    }
   ],
   "source": [
    "median = np.median(measurements)\n",
    "median"
   ]
  },
  {
   "cell_type": "code",
   "execution_count": 5,
   "id": "068fadac-1e6d-4449-b074-6b320ff85bbf",
   "metadata": {},
   "outputs": [
    {
     "data": {
      "text/plain": [
       "6"
      ]
     },
     "execution_count": 5,
     "metadata": {},
     "output_type": "execute_result"
    }
   ],
   "source": [
    "mode = st.mode(measurements)\n",
    "mode"
   ]
  },
  {
   "cell_type": "markdown",
   "id": "b14d6e91-b0b8-4acf-8fa4-616aca040bb8",
   "metadata": {},
   "source": [
    "## Measurements of spread\n",
    "Numpy also allows measuring the spread of `measurements`."
   ]
  },
  {
   "cell_type": "code",
   "execution_count": 6,
   "id": "21cc5cfa-6e48-481b-a9d1-a51e114976b5",
   "metadata": {},
   "outputs": [
    {
     "data": {
      "text/plain": [
       "2.0052015692526606"
      ]
     },
     "execution_count": 6,
     "metadata": {},
     "output_type": "execute_result"
    }
   ],
   "source": [
    "standard_deviation = np.std(measurements)\n",
    "standard_deviation"
   ]
  },
  {
   "cell_type": "code",
   "execution_count": 7,
   "id": "90a53582-7f8b-4c46-9360-224ea142acc3",
   "metadata": {},
   "outputs": [
    {
     "data": {
      "text/plain": [
       "4.020833333333333"
      ]
     },
     "execution_count": 7,
     "metadata": {},
     "output_type": "execute_result"
    }
   ],
   "source": [
    "variance = np.var(measurements)\n",
    "variance"
   ]
  },
  {
   "cell_type": "code",
   "execution_count": 9,
   "id": "959c06f8-05eb-481c-9fbd-32b965e7cd40",
   "metadata": {},
   "outputs": [
    {
     "data": {
      "text/plain": [
       "(1, 8)"
      ]
     },
     "execution_count": 9,
     "metadata": {},
     "output_type": "execute_result"
    }
   ],
   "source": [
    "np.min(measurements), np.max(measurements)"
   ]
  },
  {
   "cell_type": "code",
   "execution_count": 9,
   "id": "b2501f96-4f16-488f-9b9b-74d62309d471",
   "metadata": {},
   "outputs": [
    {
     "data": {
      "text/plain": [
       "array([2.75, 4.5 , 6.  ])"
      ]
     },
     "execution_count": 9,
     "metadata": {},
     "output_type": "execute_result"
    }
   ],
   "source": [
    "np.percentile(measurements, [25, 50, 75])"
   ]
  },
  {
   "cell_type": "code",
   "execution_count": 10,
   "id": "f4191429-4aa3-40a0-9f88-c98a8945e91a",
   "metadata": {},
   "outputs": [
    {
     "data": {
      "text/plain": [
       "array([2.75, 4.5 , 6.  ])"
      ]
     },
     "execution_count": 10,
     "metadata": {},
     "output_type": "execute_result"
    }
   ],
   "source": [
    "np.quantile(measurements, [0.25, .50, .75])"
   ]
  },
  {
   "cell_type": "markdown",
   "id": "fec0fbb1-20bb-4af3-98bc-60dfd02400df",
   "metadata": {},
   "source": [
    "With the array sorted, it is easier to interpret some of these measurements. We can sort a list like this."
   ]
  },
  {
   "cell_type": "code",
   "execution_count": 11,
   "id": "f1cc0345-45ac-4e6e-9744-37b57e294888",
   "metadata": {},
   "outputs": [
    {
     "data": {
      "text/plain": [
       "[1, 2, 2, 3, 3, 4, 5, 5, 6, 6, 6, 8]"
      ]
     },
     "execution_count": 11,
     "metadata": {},
     "output_type": "execute_result"
    }
   ],
   "source": [
    "sorted(measurements)"
   ]
  },
  {
   "cell_type": "markdown",
   "id": "8d1c8533-cea2-4086-9f09-68e9fe48122d",
   "metadata": {},
   "source": [
    "## Skewness"
   ]
  },
  {
   "cell_type": "markdown",
   "id": "85166abf-9e00-4c72-9122-bcc9c71f523a",
   "metadata": {},
   "source": [
    "Skewness is a measure of the asymetry of a distribution. Typically, positive values indicate a tail to the right, as shown below, while negative indicate a tail to the left. Values close to zero mean a symetric distribution."
   ]
  },
  {
   "cell_type": "code",
   "execution_count": 12,
   "id": "5b5f723b-3b73-457d-99ab-8dec86666cde",
   "metadata": {},
   "outputs": [],
   "source": [
    "# Fixed seed for reproducibility\n",
    "np.random.seed(4)"
   ]
  },
  {
   "cell_type": "code",
   "execution_count": 14,
   "id": "fa80587a-bc4f-47d6-87c5-18bb67b204d5",
   "metadata": {},
   "outputs": [
    {
     "data": {
      "text/plain": [
       "(array([14., 12., 15., 31., 13.,  8.,  5.,  0.,  0.,  2.]),\n",
       " array([ 0. ,  1.3,  2.6,  3.9,  5.2,  6.5,  7.8,  9.1, 10.4, 11.7, 13. ]),\n",
       " <BarContainer object of 10 artists>)"
      ]
     },
     "execution_count": 14,
     "metadata": {},
     "output_type": "execute_result"
    },
    {
     "data": {
      "image/png": "[encoded data removed]",
      "text/plain": [
       "<Figure size 640x480 with 1 Axes>"
      ]
     },
     "metadata": {},
     "output_type": "display_data"
    }
   ],
   "source": [
    "samples = np.random.poisson(lam = average, size = 100)\n",
    "plt.hist(samples)"
   ]
  },
  {
   "cell_type": "code",
   "execution_count": 15,
   "id": "ba974a80-0365-4464-9759-b27f67cdaa8b",
   "metadata": {},
   "outputs": [
    {
     "data": {
      "text/plain": [
       "0.8179610898370039"
      ]
     },
     "execution_count": 15,
     "metadata": {},
     "output_type": "execute_result"
    }
   ],
   "source": [
    "stats.skew(samples)"
   ]
  },
  {
   "cell_type": "markdown",
   "id": "bd59b3c7-8f85-4511-bf06-0abeb2844347",
   "metadata": {},
   "source": [
    "Let's check now the skewness of a normal distribution."
   ]
  },
  {
   "cell_type": "code",
   "execution_count": 16,
   "id": "b6e963cb-de06-4058-9bdb-a3bda8ba4c00",
   "metadata": {},
   "outputs": [
    {
     "data": {
      "text/plain": [
       "(array([ 4.,  8., 14., 13., 15., 18., 12., 11.,  3.,  2.]),\n",
       " array([-0.25198852,  0.68131332,  1.61461516,  2.547917  ,  3.48121884,\n",
       "         4.41452068,  5.34782252,  6.28112437,  7.21442621,  8.14772805,\n",
       "         9.08102989]),\n",
       " <BarContainer object of 10 artists>)"
      ]
     },
     "execution_count": 16,
     "metadata": {},
     "output_type": "execute_result"
    },
    {
     "data": {
      "image/png": "[encoded data removed]",
      "text/plain": [
       "<Figure size 640x480 with 1 Axes>"
      ]
     },
     "metadata": {},
     "output_type": "display_data"
    }
   ],
   "source": [
    "samples = np.random.normal(loc = average, scale = standard_deviation, size = 100)\n",
    "plt.hist(samples)"
   ]
  },
  {
   "cell_type": "code",
   "execution_count": 17,
   "id": "66381e4f-522a-4fdb-be6b-ce055f7a1f42",
   "metadata": {},
   "outputs": [
    {
     "data": {
      "text/plain": [
       "0.05126776024560816"
      ]
     },
     "execution_count": 17,
     "metadata": {},
     "output_type": "execute_result"
    }
   ],
   "source": [
    "stats.skew(samples)"
   ]
  },
  {
   "cell_type": "markdown",
   "id": "c5465b23-6818-4456-b07b-42e479431a96",
   "metadata": {},
   "source": [
    "## Exercise 1\n",
    "Find out if the median of a sample dataset is always a number within the sample. Use these three examples to elaborate on this:"
   ]
  },
  {
   "cell_type": "code",
   "execution_count": 18,
   "id": "acc54c8e-5b77-4f56-8bee-c6d0c5a13bbb",
   "metadata": {},
   "outputs": [],
   "source": [
    "example1 = [3, 4, 5]"
   ]
  },
  {
   "cell_type": "code",
   "execution_count": 27,
   "id": "0789f045-0782-4587-ab26-7ea96a38b662",
   "metadata": {},
   "outputs": [
    {
     "name": "stdout",
     "output_type": "stream",
     "text": [
      "4.0 , 4.0\n"
     ]
    }
   ],
   "source": [
    "mean = np.mean(example1)\n",
    "median = np.median(example1)\n",
    "\n",
    "print(mean,',', median)"
   ]
  },
  {
   "cell_type": "code",
   "execution_count": null,
   "id": "4f596aaa-e0d8-4153-bb30-37f45eaf3d7a",
   "metadata": {},
   "outputs": [],
   "source": []
  },
  {
   "cell_type": "code",
   "execution_count": 18,
   "id": "bd27b8de-db9b-48f9-b6c9-78dea2958319",
   "metadata": {},
   "outputs": [],
   "source": [
    "example2 = [3, 4, 4, 5]"
   ]
  },
  {
   "cell_type": "code",
   "execution_count": null,
   "id": "1a4cfe20-e174-43e6-8bdd-7bb0d70c2474",
   "metadata": {},
   "outputs": [],
   "source": []
  },
  {
   "cell_type": "code",
   "execution_count": 19,
   "id": "9b679e86-3ffb-49ce-ac36-a2bcb2607004",
   "metadata": {},
   "outputs": [],
   "source": [
    "example3 = [3, 4, 5, 6]"
   ]
  },
  {
   "cell_type": "code",
   "execution_count": null,
   "id": "56d926f8-81b9-4b22-9392-12c2fa568adb",
   "metadata": {},
   "outputs": [],
   "source": []
  }
 ],
 "metadata": {
  "kernelspec": {
   "display_name": "Python 3 (ipykernel)",
   "language": "python",
   "name": "python3"
  },
  "language_info": {
   "codemirror_mode": {
    "name": "ipython",
    "version": 3
   },
   "file_extension": ".py",
   "mimetype": "text/x-python",
   "name": "python",
   "nbconvert_exporter": "python",
   "pygments_lexer": "ipython3",
   "version": "3.9.13"
  }
 },
 "nbformat": 4,
 "nbformat_minor": 5
}
