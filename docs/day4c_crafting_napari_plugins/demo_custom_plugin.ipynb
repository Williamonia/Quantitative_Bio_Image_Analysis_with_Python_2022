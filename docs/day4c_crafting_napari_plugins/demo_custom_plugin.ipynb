{
 "cells": [
  {
   "cell_type": "code",
   "execution_count": 1,
   "id": "16154a00-f799-4790-ac48-b70be071832e",
   "metadata": {},
   "outputs": [],
   "source": [
    "from skimage.io import imread\n",
    "import matplotlib.pyplot as plt\n",
    "from magicgui import magicgui\n",
    "import napari\n",
    "from napari.utils import nbscreenshot\n",
    "from napari.types import ImageData, LabelsData, LayerDataTuple"
   ]
  },
  {
   "cell_type": "code",
   "execution_count": 2,
   "id": "c62493e9-caf6-4469-ae66-fc5fc12cead5",
   "metadata": {},
   "outputs": [],
   "source": [
    "# the block of code below is a function to process image data and parsed to a widget\n",
    "def segment_image(image: ImageData) -> LayerDataTuple:\n",
    "    \"\"\"Apply thresholding and connected component analysis\"\"\"\n",
    "    from skimage.filters import threshold_otsu\n",
    "    from skimage.measure import label\n",
    "    \n",
    "    binary = image > threshold_otsu(image)\n",
    "    labels = label(binary)\n",
    "    \n",
    "    output_tuple = (label, # first parameter of the tuple: data\n",
    "                    {'name': 'Output Label Image', 'opacity': 0.3}, # second parameter of the tuple: layer properties\n",
    "                    'labels') # third parameter of the tuple: layer type\n",
    "    \n",
    "    return output_tuple"
   ]
  },
  {
   "cell_type": "code",
   "execution_count": 3,
   "id": "ffaf12e9-4382-4564-8168-a828d4d04788",
   "metadata": {},
   "outputs": [],
   "source": [
    "image = imread(\"../../data/blobs.tif\")\n",
    "# binary_image = segment_image(image)\n",
    "\n",
    "# fig, ax = plt.subplots(1,2)\n",
    "# plt.imshow(image, cmap = 'gray')\n",
    "# ax[1].imshow(binary_image, cmap = 'gray')"
   ]
  },
  {
   "cell_type": "code",
   "execution_count": 4,
   "id": "20003156-150e-4bf7-931f-613f1b38b80e",
   "metadata": {},
   "outputs": [],
   "source": [
    "viewer = napari.Viewer() # Open napari Viewer\n",
    "viewer.add_image(image, name = 'blobs') # Add blobs image to napari as an image layer\n",
    "# viewer.add_image(binary_image, name = 'binarized') # Add denoised image to napari as an image layer (denoised from function)\n",
    "viewer.grid.enabled = True # Activate grid mode by code"
   ]
  },
  {
   "cell_type": "code",
   "execution_count": 5,
   "id": "8804c725-6295-4d1d-a78e-52dbf0d9df81",
   "metadata": {},
   "outputs": [
    {
     "data": {
      "image/png": "[encoded data removed]",
      "text/plain": [
       "<FunctionGui segment_image(image: <function NewType.<locals>.new_type at 0x000001FC90C07280> = None) -> <function NewType.<locals>.new_type at 0x000001FC90C31F70>>"
      ]
     },
     "execution_count": 5,
     "metadata": {},
     "output_type": "execute_result"
    }
   ],
   "source": [
    "segment_image_widget = magicgui(segment_image)\n",
    "segment_image_widget"
   ]
  },
  {
   "cell_type": "code",
   "execution_count": 6,
   "id": "519a62c1-54f8-43e8-93b7-1bf86fe367d5",
   "metadata": {},
   "outputs": [
    {
     "ename": "TypeError",
     "evalue": "'function' object is not iterable",
     "output_type": "error",
     "traceback": [
      "\u001b[1;31m---------------------------------------------------------------------------\u001b[0m",
      "\u001b[1;31mTypeError\u001b[0m                                 Traceback (most recent call last)",
      "Cell \u001b[1;32mIn [6], line 4\u001b[0m\n\u001b[0;32m      1\u001b[0m viewer\u001b[38;5;241m.\u001b[39mwindow\u001b[38;5;241m.\u001b[39madd_dock_widget(segment_image_widget)\n\u001b[0;32m      2\u001b[0m \u001b[38;5;66;03m# binarized_from_widget = segment_image_widget()\u001b[39;00m\n\u001b[0;32m      3\u001b[0m \u001b[38;5;66;03m# nbscreenshot(viewer)\u001b[39;00m\n\u001b[1;32m----> 4\u001b[0m \u001b[43msegment_image_widget\u001b[49m\u001b[43m(\u001b[49m\u001b[43m)\u001b[49m\n",
      "File \u001b[1;32m~\\miniconda3\\envs\\devbio-napari-env\\lib\\site-packages\\magicgui\\widgets\\_function_gui.py:330\u001b[0m, in \u001b[0;36mFunctionGui.__call__\u001b[1;34m(self, update_widget, *args, **kwargs)\u001b[0m\n\u001b[0;32m    327\u001b[0m     \u001b[38;5;28;01mfrom\u001b[39;00m \u001b[38;5;21;01mmagicgui\u001b[39;00m\u001b[38;5;21;01m.\u001b[39;00m\u001b[38;5;21;01mtype_map\u001b[39;00m \u001b[38;5;28;01mimport\u001b[39;00m _type2callback\n\u001b[0;32m    329\u001b[0m     \u001b[38;5;28;01mfor\u001b[39;00m callback \u001b[38;5;129;01min\u001b[39;00m _type2callback(return_type):\n\u001b[1;32m--> 330\u001b[0m         \u001b[43mcallback\u001b[49m\u001b[43m(\u001b[49m\u001b[38;5;28;43mself\u001b[39;49m\u001b[43m,\u001b[49m\u001b[43m \u001b[49m\u001b[43mvalue\u001b[49m\u001b[43m,\u001b[49m\u001b[43m \u001b[49m\u001b[43mreturn_type\u001b[49m\u001b[43m)\u001b[49m\n\u001b[0;32m    331\u001b[0m \u001b[38;5;28mself\u001b[39m\u001b[38;5;241m.\u001b[39mcalled\u001b[38;5;241m.\u001b[39memit(value)\n\u001b[0;32m    332\u001b[0m \u001b[38;5;28;01mreturn\u001b[39;00m value\n",
      "File \u001b[1;32m~\\miniconda3\\envs\\devbio-napari-env\\lib\\site-packages\\napari\\utils\\_magicgui.py:150\u001b[0m, in \u001b[0;36madd_layer_data_tuples_to_viewer\u001b[1;34m(gui, result, return_type)\u001b[0m\n\u001b[0;32m    148\u001b[0m         \u001b[38;5;28;01mpass\u001b[39;00m\n\u001b[0;32m    149\u001b[0m \u001b[38;5;66;03m# otherwise create a new layer from the layer data\u001b[39;00m\n\u001b[1;32m--> 150\u001b[0m \u001b[43mviewer\u001b[49m\u001b[38;5;241;43m.\u001b[39;49m\u001b[43m_add_layer_from_data\u001b[49m\u001b[43m(\u001b[49m\u001b[38;5;241;43m*\u001b[39;49m\u001b[43mlayer_datum\u001b[49m\u001b[43m)\u001b[49m\n",
      "File \u001b[1;32m~\\miniconda3\\envs\\devbio-napari-env\\lib\\site-packages\\napari\\components\\viewer_model.py:1086\u001b[0m, in \u001b[0;36mViewerModel._add_layer_from_data\u001b[1;34m(self, data, meta, layer_type)\u001b[0m\n\u001b[0;32m   1084\u001b[0m \u001b[38;5;28;01mexcept\u001b[39;00m \u001b[38;5;167;01mTypeError\u001b[39;00m \u001b[38;5;28;01mas\u001b[39;00m exc:\n\u001b[0;32m   1085\u001b[0m     \u001b[38;5;28;01mif\u001b[39;00m \u001b[38;5;124m'\u001b[39m\u001b[38;5;124munexpected keyword argument\u001b[39m\u001b[38;5;124m'\u001b[39m \u001b[38;5;129;01mnot\u001b[39;00m \u001b[38;5;129;01min\u001b[39;00m \u001b[38;5;28mstr\u001b[39m(exc):\n\u001b[1;32m-> 1086\u001b[0m         \u001b[38;5;28;01mraise\u001b[39;00m exc\n\u001b[0;32m   1087\u001b[0m     bad_key \u001b[38;5;241m=\u001b[39m \u001b[38;5;28mstr\u001b[39m(exc)\u001b[38;5;241m.\u001b[39msplit(\u001b[38;5;124m'\u001b[39m\u001b[38;5;124mkeyword argument \u001b[39m\u001b[38;5;124m'\u001b[39m)[\u001b[38;5;241m-\u001b[39m\u001b[38;5;241m1\u001b[39m]\n\u001b[0;32m   1088\u001b[0m     \u001b[38;5;28;01mraise\u001b[39;00m \u001b[38;5;167;01mTypeError\u001b[39;00m(\n\u001b[0;32m   1089\u001b[0m         trans\u001b[38;5;241m.\u001b[39m_(\n\u001b[0;32m   1090\u001b[0m             \u001b[38;5;124m\"\u001b[39m\u001b[38;5;124m_add_layer_from_data received an unexpected keyword argument (\u001b[39m\u001b[38;5;132;01m{bad_key}\u001b[39;00m\u001b[38;5;124m) for layer type \u001b[39m\u001b[38;5;132;01m{layer_type}\u001b[39;00m\u001b[38;5;124m\"\u001b[39m,\n\u001b[1;32m   (...)\u001b[0m\n\u001b[0;32m   1094\u001b[0m         )\n\u001b[0;32m   1095\u001b[0m     ) \u001b[38;5;28;01mfrom\u001b[39;00m \u001b[38;5;21;01mexc\u001b[39;00m\n",
      "File \u001b[1;32m~\\miniconda3\\envs\\devbio-napari-env\\lib\\site-packages\\napari\\components\\viewer_model.py:1083\u001b[0m, in \u001b[0;36mViewerModel._add_layer_from_data\u001b[1;34m(self, data, meta, layer_type)\u001b[0m\n\u001b[0;32m   1081\u001b[0m \u001b[38;5;28;01mtry\u001b[39;00m:\n\u001b[0;32m   1082\u001b[0m     add_method \u001b[38;5;241m=\u001b[39m \u001b[38;5;28mgetattr\u001b[39m(\u001b[38;5;28mself\u001b[39m, \u001b[38;5;124m'\u001b[39m\u001b[38;5;124madd_\u001b[39m\u001b[38;5;124m'\u001b[39m \u001b[38;5;241m+\u001b[39m layer_type)\n\u001b[1;32m-> 1083\u001b[0m     layer \u001b[38;5;241m=\u001b[39m add_method(data, \u001b[38;5;241m*\u001b[39m\u001b[38;5;241m*\u001b[39m(meta \u001b[38;5;129;01mor\u001b[39;00m {}))\n\u001b[0;32m   1084\u001b[0m \u001b[38;5;28;01mexcept\u001b[39;00m \u001b[38;5;167;01mTypeError\u001b[39;00m \u001b[38;5;28;01mas\u001b[39;00m exc:\n\u001b[0;32m   1085\u001b[0m     \u001b[38;5;28;01mif\u001b[39;00m \u001b[38;5;124m'\u001b[39m\u001b[38;5;124munexpected keyword argument\u001b[39m\u001b[38;5;124m'\u001b[39m \u001b[38;5;129;01mnot\u001b[39;00m \u001b[38;5;129;01min\u001b[39;00m \u001b[38;5;28mstr\u001b[39m(exc):\n",
      "File \u001b[1;32m~\\miniconda3\\envs\\devbio-napari-env\\lib\\site-packages\\napari\\components\\viewer_model.py:4\u001b[0m, in \u001b[0;36madd_labels\u001b[1;34m(self, data, num_colors, features, properties, color, seed, name, metadata, scale, translate, rotate, shear, affine, opacity, blending, rendering, depiction, visible, multiscale, cache, plane, experimental_clipping_planes)\u001b[0m\n\u001b[0;32m      1\u001b[0m \u001b[38;5;28;01mfrom\u001b[39;00m \u001b[38;5;21;01m__future__\u001b[39;00m \u001b[38;5;28;01mimport\u001b[39;00m annotations\n\u001b[0;32m      3\u001b[0m \u001b[38;5;28;01mimport\u001b[39;00m \u001b[38;5;21;01minspect\u001b[39;00m\n\u001b[1;32m----> 4\u001b[0m \u001b[38;5;28;01mimport\u001b[39;00m \u001b[38;5;21;01mitertools\u001b[39;00m\n\u001b[0;32m      5\u001b[0m \u001b[38;5;28;01mimport\u001b[39;00m \u001b[38;5;21;01mos\u001b[39;00m\n\u001b[0;32m      6\u001b[0m \u001b[38;5;28;01mimport\u001b[39;00m \u001b[38;5;21;01mwarnings\u001b[39;00m\n",
      "File \u001b[1;32m~\\miniconda3\\envs\\devbio-napari-env\\lib\\site-packages\\napari\\layers\\labels\\labels.py:259\u001b[0m, in \u001b[0;36mLabels.__init__\u001b[1;34m(self, data, num_colors, features, properties, color, seed, name, metadata, scale, translate, rotate, shear, affine, opacity, blending, rendering, depiction, visible, multiscale, cache, plane, experimental_clipping_planes)\u001b[0m\n\u001b[0;32m    256\u001b[0m \u001b[38;5;28mself\u001b[39m\u001b[38;5;241m.\u001b[39m_show_selected_label \u001b[38;5;241m=\u001b[39m \u001b[38;5;28;01mFalse\u001b[39;00m\n\u001b[0;32m    257\u001b[0m \u001b[38;5;28mself\u001b[39m\u001b[38;5;241m.\u001b[39m_contour \u001b[38;5;241m=\u001b[39m \u001b[38;5;241m0\u001b[39m\n\u001b[1;32m--> 259\u001b[0m data \u001b[38;5;241m=\u001b[39m \u001b[38;5;28;43mself\u001b[39;49m\u001b[38;5;241;43m.\u001b[39;49m\u001b[43m_ensure_int_labels\u001b[49m\u001b[43m(\u001b[49m\u001b[43mdata\u001b[49m\u001b[43m)\u001b[49m\n\u001b[0;32m    260\u001b[0m \u001b[38;5;28mself\u001b[39m\u001b[38;5;241m.\u001b[39m_color_lookup_func \u001b[38;5;241m=\u001b[39m \u001b[38;5;28;01mNone\u001b[39;00m\n\u001b[0;32m    262\u001b[0m \u001b[38;5;28msuper\u001b[39m()\u001b[38;5;241m.\u001b[39m\u001b[38;5;21m__init__\u001b[39m(\n\u001b[0;32m    263\u001b[0m     data,\n\u001b[0;32m    264\u001b[0m     rgb\u001b[38;5;241m=\u001b[39m\u001b[38;5;28;01mFalse\u001b[39;00m,\n\u001b[1;32m   (...)\u001b[0m\n\u001b[0;32m    284\u001b[0m     experimental_clipping_planes\u001b[38;5;241m=\u001b[39mexperimental_clipping_planes,\n\u001b[0;32m    285\u001b[0m )\n",
      "File \u001b[1;32m~\\miniconda3\\envs\\devbio-napari-env\\lib\\site-packages\\napari\\layers\\labels\\labels.py:554\u001b[0m, in \u001b[0;36mLabels._ensure_int_labels\u001b[1;34m(self, data)\u001b[0m\n\u001b[0;32m    552\u001b[0m \u001b[38;5;28;01mdef\u001b[39;00m \u001b[38;5;21m_ensure_int_labels\u001b[39m(\u001b[38;5;28mself\u001b[39m, data):\n\u001b[0;32m    553\u001b[0m     \u001b[38;5;124;03m\"\"\"Ensure data is integer by converting from bool if required, raising an error otherwise.\"\"\"\u001b[39;00m\n\u001b[1;32m--> 554\u001b[0m     looks_multiscale, data \u001b[38;5;241m=\u001b[39m \u001b[43mguess_multiscale\u001b[49m\u001b[43m(\u001b[49m\u001b[43mdata\u001b[49m\u001b[43m)\u001b[49m\n\u001b[0;32m    555\u001b[0m     \u001b[38;5;28;01mif\u001b[39;00m \u001b[38;5;129;01mnot\u001b[39;00m looks_multiscale:\n\u001b[0;32m    556\u001b[0m         data \u001b[38;5;241m=\u001b[39m [data]\n",
      "File \u001b[1;32m~\\miniconda3\\envs\\devbio-napari-env\\lib\\site-packages\\napari\\layers\\image\\_image_utils.py:67\u001b[0m, in \u001b[0;36mguess_multiscale\u001b[1;34m(data)\u001b[0m\n\u001b[0;32m     63\u001b[0m \u001b[38;5;28;01mif\u001b[39;00m \u001b[38;5;28misinstance\u001b[39m(data, (\u001b[38;5;28mlist\u001b[39m, \u001b[38;5;28mtuple\u001b[39m)) \u001b[38;5;129;01mand\u001b[39;00m \u001b[38;5;28mlen\u001b[39m(data) \u001b[38;5;241m==\u001b[39m \u001b[38;5;241m1\u001b[39m:\n\u001b[0;32m     64\u001b[0m     \u001b[38;5;66;03m# pyramid with only one level, unwrap\u001b[39;00m\n\u001b[0;32m     65\u001b[0m     \u001b[38;5;28;01mreturn\u001b[39;00m \u001b[38;5;28;01mFalse\u001b[39;00m, data[\u001b[38;5;241m0\u001b[39m]\n\u001b[1;32m---> 67\u001b[0m shapes \u001b[38;5;241m=\u001b[39m [d\u001b[38;5;241m.\u001b[39mshape \u001b[38;5;28;01mfor\u001b[39;00m d \u001b[38;5;129;01min\u001b[39;00m data]\n\u001b[0;32m     68\u001b[0m sizes \u001b[38;5;241m=\u001b[39m np\u001b[38;5;241m.\u001b[39marray([np\u001b[38;5;241m.\u001b[39mprod(shape, dtype\u001b[38;5;241m=\u001b[39mnp\u001b[38;5;241m.\u001b[39muint64) \u001b[38;5;28;01mfor\u001b[39;00m shape \u001b[38;5;129;01min\u001b[39;00m shapes])\n\u001b[0;32m     69\u001b[0m \u001b[38;5;28;01mif\u001b[39;00m \u001b[38;5;28mlen\u001b[39m(sizes) \u001b[38;5;241m<\u001b[39m\u001b[38;5;241m=\u001b[39m \u001b[38;5;241m1\u001b[39m:\n",
      "\u001b[1;31mTypeError\u001b[0m: 'function' object is not iterable"
     ]
    }
   ],
   "source": [
    "viewer.window.add_dock_widget(segment_image_widget)\n",
    "# binarized_from_widget = segment_image_widget()\n",
    "# nbscreenshot(viewer)\n",
    "segment_image_widget()"
   ]
  }
 ],
 "metadata": {
  "kernelspec": {
   "display_name": "Python 3 (ipykernel)",
   "language": "python",
   "name": "python3"
  },
  "language_info": {
   "codemirror_mode": {
    "name": "ipython",
    "version": 3
   },
   "file_extension": ".py",
   "mimetype": "text/x-python",
   "name": "python",
   "nbconvert_exporter": "python",
   "pygments_lexer": "ipython3",
   "version": "3.9.13"
  }
 },
 "nbformat": 4,
 "nbformat_minor": 5
}
