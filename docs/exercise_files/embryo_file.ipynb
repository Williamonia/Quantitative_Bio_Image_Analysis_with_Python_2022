{
 "cells": [
  {
   "cell_type": "code",
   "execution_count": 1,
   "id": "f2ebd800-af25-4ec9-b087-4063bf8a9039",
   "metadata": {},
   "outputs": [],
   "source": [
    "import os\n",
    "import numpy as np\n",
    "from skimage.io import imread, imshow, imsave\n",
    "import matplotlib.pyplot as plt"
   ]
  },
  {
   "cell_type": "code",
   "execution_count": 2,
   "id": "09b55000-78d4-4d43-9aab-2cf0dab2639a",
   "metadata": {},
   "outputs": [],
   "source": [
    "data = 'C:/Users/thewo/OneDrive/Documents/saved_exercise/data/C1-4cell_EMS.tif'\n",
    "save_file = 'C:/Users/thewo/OneDrive/Documents/saved_exercise/data/frame_10.tif'"
   ]
  },
  {
   "cell_type": "code",
   "execution_count": 3,
   "id": "f4417275-862b-4514-a247-f66fb634ab09",
   "metadata": {},
   "outputs": [],
   "source": [
    "# data.shape\n",
    "image = imread(data)\n",
    "frame = image[10]\n"
   ]
  },
  {
   "cell_type": "code",
   "execution_count": 4,
   "id": "6632844b-4252-4b8e-bf45-529e8ef1edab",
   "metadata": {},
   "outputs": [
    {
     "name": "stderr",
     "output_type": "stream",
     "text": [
      "C:\\Users\\thewo\\AppData\\Local\\Temp\\ipykernel_4296\\4000630541.py:1: UserWarning: C:/Users/thewo/OneDrive/Documents/saved_exercise/data/frame_10.tif is a low contrast image\n",
      "  imsave(save_file, frame)\n"
     ]
    }
   ],
   "source": [
    "imsave(save_file, frame)"
   ]
  }
 ],
 "metadata": {
  "kernelspec": {
   "display_name": "Python 3 (ipykernel)",
   "language": "python",
   "name": "python3"
  },
  "language_info": {
   "codemirror_mode": {
    "name": "ipython",
    "version": 3
   },
   "file_extension": ".py",
   "mimetype": "text/x-python",
   "name": "python",
   "nbconvert_exporter": "python",
   "pygments_lexer": "ipython3",
   "version": "3.9.13"
  }
 },
 "nbformat": 4,
 "nbformat_minor": 5
}
