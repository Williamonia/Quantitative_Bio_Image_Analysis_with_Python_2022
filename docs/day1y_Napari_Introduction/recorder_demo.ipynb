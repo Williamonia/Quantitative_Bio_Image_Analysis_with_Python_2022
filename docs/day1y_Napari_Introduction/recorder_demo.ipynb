{
 "cells": [
  {
   "cell_type": "code",
   "execution_count": null,
   "id": "b5141038",
   "metadata": {
    "lines_to_next_cell": 2
   },
   "outputs": [],
   "source": [
    "from skimage.io import imread\n",
    "import pyclesperanto_prototype as cle  # version 0.19.4"
   ]
  },
  {
   "cell_type": "markdown",
   "id": "fff7eb99",
   "metadata": {},
   "source": [
    "## Loading 'image_human_mitosis layer 0 layer 1'\n",
    "Please enter code for loading 'image_human_mitosis layer 0 layer 1' here."
   ]
  },
  {
   "cell_type": "code",
   "execution_count": null,
   "id": "f750c1e6",
   "metadata": {},
   "outputs": [],
   "source": [
    "#filename = 'path/to/image.tif'\n",
    "#image0_ihm = imread(filename)\n",
    "image0_ihm = viewer.layers['image_human_mitosis layer 0 layer 1'].data"
   ]
  },
  {
   "cell_type": "markdown",
   "id": "2509c3f1",
   "metadata": {},
   "source": [
    "## gaussian blur"
   ]
  },
  {
   "cell_type": "code",
   "execution_count": null,
   "id": "edff419a",
   "metadata": {},
   "outputs": [],
   "source": [
    "image1_gb = cle.gaussian_blur(\n",
    "    image0_ihm, None, 2.000000000000001, 2.000000000000001, 0.0)\n",
    "image1_gb"
   ]
  }
 ],
 "metadata": {
  "jupytext": {
   "cell_metadata_filter": "-all",
   "main_language": "python",
   "notebook_metadata_filter": "-all"
  },
  "kernelspec": {
   "display_name": "Python 3 (ipykernel)",
   "language": "python",
   "name": "python3"
  },
  "language_info": {
   "codemirror_mode": {
    "name": "ipython",
    "version": 3
   },
   "file_extension": ".py",
   "mimetype": "text/x-python",
   "name": "python",
   "nbconvert_exporter": "python",
   "pygments_lexer": "ipython3",
   "version": "3.9.13"
  }
 },
 "nbformat": 4,
 "nbformat_minor": 5
}
